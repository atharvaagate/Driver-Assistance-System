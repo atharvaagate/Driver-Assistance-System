{
 "cells": [
  {
   "cell_type": "code",
   "execution_count": 20,
   "metadata": {},
   "outputs": [
    {
     "name": "stdout",
     "output_type": "stream",
     "text": [
      "   Unnamed: 0       class          dim Unnamed: 3\n",
      "0           1      person           17          0\n",
      "1           2     bicycle        19.68          0\n",
      "2           3         car         74.8        4.6\n",
      "3           4  motorcycle  24.80-39.37    1.9-2.5\n",
      "4           5    airplane         2559         70\n"
     ]
    }
   ],
   "source": [
    "import pandas as pd\n",
    "df = pd.read_excel(\"../object-dimensions.xlsx\")\n",
    "df = df.fillna(0)\n",
    "print(df.head(5))"
   ]
  },
  {
   "cell_type": "code",
   "execution_count": 21,
   "metadata": {},
   "outputs": [],
   "source": [
    "d = {}\n",
    "\n",
    "cls = df['class']\n",
    "dim = df[\"dim\"]"
   ]
  },
  {
   "cell_type": "code",
   "execution_count": 22,
   "metadata": {},
   "outputs": [],
   "source": [
    "for i in range(len(cls)) :\n",
    "    d[cls[i]] = dim[i]"
   ]
  },
  {
   "cell_type": "code",
   "execution_count": 23,
   "metadata": {},
   "outputs": [
    {
     "data": {
      "text/plain": [
       "{'person': 17,\n",
       " 'bicycle': 19.68,\n",
       " 'car': 74.8,\n",
       " 'motorcycle': '24.80-39.37',\n",
       " 'airplane': 2559,\n",
       " 'bus': 100.4,\n",
       " 'train': 126,\n",
       " 'truck': 78.74,\n",
       " 'boat': '263.78-354.33',\n",
       " 'traffic light': 9.44,\n",
       " 'fire hydrant': 0,\n",
       " 'stop sign': 29.52,\n",
       " 'parking meter': 0,\n",
       " 'bench': 50,\n",
       " 'bird': 14.96,\n",
       " 'cat': 18.11,\n",
       " 'dog': 21.65,\n",
       " 'horse': 68.9,\n",
       " 'sheep': 50,\n",
       " 'cow': 96.45,\n",
       " 'elephant': 0,\n",
       " 'bear': 0,\n",
       " 'zebra': 78.74,\n",
       " 'giraffe': 0,\n",
       " 'backpack': 13.77,\n",
       " 'umbrella': 0,\n",
       " 'handbag': 5.11,\n",
       " 'tie': 3.149,\n",
       " 'suitcase': 17.71,\n",
       " 'frisbee': 9.84,\n",
       " 'skis': 4.72,\n",
       " 'snowboard': 9.84,\n",
       " 'sports ball': 29.52,\n",
       " 'kite': 31.49,\n",
       " 'baseball bat': 2.63,\n",
       " 'baseball glove': 12.6,\n",
       " 'skateboard': 7.87,\n",
       " 'surfboard': 19.68,\n",
       " 'tennis racket': 11.81,\n",
       " 'bottle': 27.55,\n",
       " 'wine glass': 27.55,\n",
       " 'cup': 27.55,\n",
       " 'fork': 0,\n",
       " 'knife': 0,\n",
       " 'spoon': 0,\n",
       " 'bowl': 9.05,\n",
       " 'banana': 1.53,\n",
       " 'apple': 3.93,\n",
       " 'sandwich': 5.9,\n",
       " 'orange': 2.95,\n",
       " 'broccoli': 0,\n",
       " 'carrot': 0,\n",
       " 'hot dog': 0,\n",
       " 'pizza': 11.81,\n",
       " 'donut': 5.51,\n",
       " 'cake': 9.05,\n",
       " 'chair': 23.62,\n",
       " 'couch': 90.15,\n",
       " 'potted plant': 8.85,\n",
       " 'bed': 47.24,\n",
       " 'dining table': 39.37,\n",
       " 'toilet': 0,\n",
       " 'tv': 43.3,\n",
       " 'laptop': 14.96,\n",
       " 'mouse': 7.08,\n",
       " 'remote': 1.96,\n",
       " 'keyboard': 18.11,\n",
       " 'cell phone': 2.75,\n",
       " 'microwave': 29.92,\n",
       " 'oven': 29.92,\n",
       " 'toaster': 18.11,\n",
       " 'sink': 24.8,\n",
       " 'refrigerator': 39.37,\n",
       " 'book': 5.9,\n",
       " 'clock': 11.81,\n",
       " 'vase': 4.92,\n",
       " 'scissors': 5.9,\n",
       " 'teddy bear': 15.74,\n",
       " 'hair drier': 9.44,\n",
       " 'toothbrush': 0}"
      ]
     },
     "execution_count": 23,
     "metadata": {},
     "output_type": "execute_result"
    }
   ],
   "source": [
    "d"
   ]
  },
  {
   "cell_type": "code",
   "execution_count": 24,
   "metadata": {},
   "outputs": [],
   "source": [
    "import pickle"
   ]
  },
  {
   "cell_type": "code",
   "execution_count": 25,
   "metadata": {},
   "outputs": [
    {
     "name": "stdout",
     "output_type": "stream",
     "text": [
      "{'person': 17, 'bicycle': 19.68, 'car': 74.8, 'motorcycle': '24.80-39.37', 'airplane': 2559, 'bus': 100.4, 'train': 126, 'truck': 78.74, 'boat': '263.78-354.33', 'traffic light': 9.44, 'fire hydrant': 0, 'stop sign': 29.52, 'parking meter': 0, 'bench': 50, 'bird': 14.96, 'cat': 18.11, 'dog': 21.65, 'horse': 68.9, 'sheep': 50, 'cow': 96.45, 'elephant': 0, 'bear': 0, 'zebra': 78.74, 'giraffe': 0, 'backpack': 13.77, 'umbrella': 0, 'handbag': 5.11, 'tie': 3.149, 'suitcase': 17.71, 'frisbee': 9.84, 'skis': 4.72, 'snowboard': 9.84, 'sports ball': 29.52, 'kite': 31.49, 'baseball bat': 2.63, 'baseball glove': 12.6, 'skateboard': 7.87, 'surfboard': 19.68, 'tennis racket': 11.81, 'bottle': 27.55, 'wine glass': 27.55, 'cup': 27.55, 'fork': 0, 'knife': 0, 'spoon': 0, 'bowl': 9.05, 'banana': 1.53, 'apple': 3.93, 'sandwich': 5.9, 'orange': 2.95, 'broccoli': 0, 'carrot': 0, 'hot dog': 0, 'pizza': 11.81, 'donut': 5.51, 'cake': 9.05, 'chair': 23.62, 'couch': 90.15, 'potted plant': 8.85, 'bed': 47.24, 'dining table': 39.37, 'toilet': 0, 'tv': 43.3, 'laptop': 14.96, 'mouse': 7.08, 'remote': 1.96, 'keyboard': 18.11, 'cell phone': 2.75, 'microwave': 29.92, 'oven': 29.92, 'toaster': 18.11, 'sink': 24.8, 'refrigerator': 39.37, 'book': 5.9, 'clock': 11.81, 'vase': 4.92, 'scissors': 5.9, 'teddy bear': 15.74, 'hair drier': 9.44, 'toothbrush': 0}\n"
     ]
    }
   ],
   "source": [
    "a_file = open(\"../data.pkl\", \"wb\")\n",
    "pickle. dump(d, a_file)\n",
    "a_file. close()\n",
    "a_file = open(\"../data.pkl\", \"rb\")\n",
    "output = pickle. load(a_file)\n",
    "print(output)\n",
    "a_file. close()"
   ]
  },
  {
   "cell_type": "code",
   "execution_count": 26,
   "metadata": {},
   "outputs": [
    {
     "data": {
      "text/plain": [
       "27"
      ]
     },
     "execution_count": 26,
     "metadata": {},
     "output_type": "execute_result"
    }
   ],
   "source": [
    "output['person']+10"
   ]
  },
  {
   "cell_type": "code",
   "execution_count": null,
   "metadata": {},
   "outputs": [],
   "source": []
  }
 ],
 "metadata": {
  "kernelspec": {
   "display_name": "Python 3",
   "language": "python",
   "name": "python3"
  },
  "language_info": {
   "codemirror_mode": {
    "name": "ipython",
    "version": 3
   },
   "file_extension": ".py",
   "mimetype": "text/x-python",
   "name": "python",
   "nbconvert_exporter": "python",
   "pygments_lexer": "ipython3",
   "version": "3.8.5"
  }
 },
 "nbformat": 4,
 "nbformat_minor": 4
}
